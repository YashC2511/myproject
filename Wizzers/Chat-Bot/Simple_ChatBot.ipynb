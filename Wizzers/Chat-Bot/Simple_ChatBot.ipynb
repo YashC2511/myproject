{
  "cells": [
    {
      "cell_type": "markdown",
      "metadata": {},
      "source": [
        "# 🎭 Simple Fashion Chatbot\n",
        "\n",
        "A streamlined fashion chatbot that avoids dependency conflicts by using simpler, more reliable components.\n",
        "\n",
        "## Features:\n",
        "- Document-based knowledge retrieval\n",
        "- Fashion-focused Q&A system\n",
        "- Gradio web interface\n",
        "- No complex dependency conflicts\n"
      ]
    },
    {
      "cell_type": "markdown",
      "metadata": {},
      "source": [
        "\n"
      ]
    },
    {
      "cell_type": "code",
      "execution_count": null,
      "metadata": {},
      "outputs": [],
      "source": [
        "\n"
      ]
    }
  ],
  "metadata": {
    "language_info": {
      "name": "python"
    }
  },
  "nbformat": 4,
  "nbformat_minor": 2
}
